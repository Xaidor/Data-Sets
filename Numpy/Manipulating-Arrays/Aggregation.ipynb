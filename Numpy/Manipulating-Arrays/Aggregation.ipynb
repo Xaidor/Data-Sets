{
 "cells": [
  {
   "cell_type": "markdown",
   "id": "15196e6f-00ee-475b-b48b-2cdd137cebe4",
   "metadata": {},
   "source": [
    "## Maniputlating & Comparing Arrays"
   ]
  },
  {
   "cell_type": "code",
   "execution_count": 1,
   "id": "a36185e8-2ca3-41a2-b8e1-f8ded9232068",
   "metadata": {},
   "outputs": [],
   "source": [
    "import numpy as np"
   ]
  },
  {
   "cell_type": "code",
   "execution_count": 2,
   "id": "f9422977-21d0-492d-b966-2c3d148a3775",
   "metadata": {},
   "outputs": [],
   "source": [
    "# One dimensional array (vector)\n",
    "\n",
    "a1 = np.array([1, 2, 3])"
   ]
  },
  {
   "cell_type": "code",
   "execution_count": 3,
   "id": "92fee2fa-b09d-42b2-9b3e-ce49178a1ba2",
   "metadata": {},
   "outputs": [],
   "source": [
    "#  multi-dimensional arrys (matrices)\n",
    "a2 = np.array([[1, 2.0, 3.3],\n",
    "              [4, 5, 6.5]])\n",
    "\n",
    "a3 = np.array([[[1, 2, 3],\n",
    "               [4, 5, 6],\n",
    "               [7, 8, 9]],\n",
    "              [[10, 11, 12],\n",
    "              [13, 14, 15],\n",
    "              [16, 17, 18]]])"
   ]
  },
  {
   "cell_type": "markdown",
   "id": "4345d16b-110f-4b9c-a45c-600b0b8057ed",
   "metadata": {},
   "source": [
    "### Aggregation \n",
    "Aggregation = performing the same operation on a number of things "
   ]
  },
  {
   "cell_type": "code",
   "execution_count": 4,
   "id": "489658fd-7fa8-4532-8a03-9387f00d2430",
   "metadata": {},
   "outputs": [
    {
     "data": {
      "text/plain": [
       "list"
      ]
     },
     "execution_count": 4,
     "metadata": {},
     "output_type": "execute_result"
    }
   ],
   "source": [
    "listy_list = [1, 2, 3]\n",
    "type(listy_list)"
   ]
  },
  {
   "cell_type": "code",
   "execution_count": 5,
   "id": "008f31b5-4334-481b-8180-6f3a861a0131",
   "metadata": {},
   "outputs": [
    {
     "data": {
      "text/plain": [
       "numpy.ndarray"
      ]
     },
     "execution_count": 5,
     "metadata": {},
     "output_type": "execute_result"
    }
   ],
   "source": [
    "type(a1)"
   ]
  },
  {
   "cell_type": "code",
   "execution_count": 6,
   "id": "43018936-b920-4922-9e42-3ca7013ac396",
   "metadata": {},
   "outputs": [
    {
     "data": {
      "text/plain": [
       "np.int64(6)"
      ]
     },
     "execution_count": 6,
     "metadata": {},
     "output_type": "execute_result"
    }
   ],
   "source": [
    "sum(a1)"
   ]
  },
  {
   "cell_type": "code",
   "execution_count": 7,
   "id": "98ee45a2-1894-422d-9456-0f00fe97af7a",
   "metadata": {},
   "outputs": [
    {
     "data": {
      "text/plain": [
       "np.int64(6)"
      ]
     },
     "execution_count": 7,
     "metadata": {},
     "output_type": "execute_result"
    }
   ],
   "source": [
    "np.sum(a1)"
   ]
  },
  {
   "cell_type": "code",
   "execution_count": 8,
   "id": "d271c521-8768-4a28-9670-5a4435259672",
   "metadata": {},
   "outputs": [
    {
     "data": {
      "text/plain": [
       "np.int64(6)"
      ]
     },
     "execution_count": 8,
     "metadata": {},
     "output_type": "execute_result"
    }
   ],
   "source": [
    "np.sum(listy_list)"
   ]
  },
  {
   "cell_type": "markdown",
   "id": "7afec488-0d83-4cf6-a29d-de784e5b9070",
   "metadata": {},
   "source": [
    "Use Python's methods (sum()) on python datatypes and  use\n",
    "Numpy's methods on Numpy arrays"
   ]
  },
  {
   "cell_type": "code",
   "execution_count": 10,
   "id": "840e5145-d991-421b-a915-7d359f316232",
   "metadata": {},
   "outputs": [
    {
     "data": {
      "text/plain": [
       "100000"
      ]
     },
     "execution_count": 10,
     "metadata": {},
     "output_type": "execute_result"
    }
   ],
   "source": [
    "# Create a massive Numpy array\n",
    "massive_array = np.random.random(100000)\n",
    "massive_array.size"
   ]
  },
  {
   "cell_type": "code",
   "execution_count": 12,
   "id": "c5612c68-5fa6-466c-b7b5-a617930818ef",
   "metadata": {},
   "outputs": [
    {
     "data": {
      "text/plain": [
       "array([0.27785242, 0.96550507, 0.59433268, 0.87153261, 0.0012945 ,\n",
       "       0.51934008, 0.88514076, 0.28020342, 0.43281272, 0.47083142])"
      ]
     },
     "execution_count": 12,
     "metadata": {},
     "output_type": "execute_result"
    }
   ],
   "source": [
    "massive_array[:10]"
   ]
  },
  {
   "cell_type": "code",
   "execution_count": 13,
   "id": "04c82c3d-d0c2-4376-995f-75906ab51407",
   "metadata": {},
   "outputs": [
    {
     "name": "stdout",
     "output_type": "stream",
     "text": [
      "2.96 ms ± 71.9 μs per loop (mean ± std. dev. of 7 runs, 100 loops each)\n",
      "12.1 μs ± 26.6 ns per loop (mean ± std. dev. of 7 runs, 100,000 loops each)\n"
     ]
    }
   ],
   "source": [
    "# How long would it take to get the sum of the massive_array?\n",
    "\n",
    "%timeit sum(massive_array) # Python's sum()\n",
    "%timeit np.sum(massive_array) # NumPy sum()"
   ]
  },
  {
   "cell_type": "code",
   "execution_count": 15,
   "id": "b6150dc9-b91b-4bd1-b238-be1eb09ace7d",
   "metadata": {},
   "outputs": [
    {
     "data": {
      "text/plain": [
       "244.62809917355372"
      ]
     },
     "execution_count": 15,
     "metadata": {},
     "output_type": "execute_result"
    }
   ],
   "source": [
    "# Convert milliseconds to microseconds. You can do this by multiplying the milliseconds by 1000\n",
    "# Compare the time it takes with a numpy array when using Python vs NumPy \n",
    "2960 / 12.1"
   ]
  },
  {
   "cell_type": "code",
   "execution_count": 16,
   "id": "d126ba57-a547-4360-85b4-0cb3cecc58c1",
   "metadata": {},
   "outputs": [
    {
     "data": {
      "text/plain": [
       "array([[1. , 2. , 3.3],\n",
       "       [4. , 5. , 6.5]])"
      ]
     },
     "execution_count": 16,
     "metadata": {},
     "output_type": "execute_result"
    }
   ],
   "source": [
    "a2"
   ]
  },
  {
   "cell_type": "code",
   "execution_count": 17,
   "id": "37828fba-2d7f-406b-bc9b-b8a2c467ff1d",
   "metadata": {},
   "outputs": [
    {
     "data": {
      "text/plain": [
       "np.float64(3.6333333333333333)"
      ]
     },
     "execution_count": 17,
     "metadata": {},
     "output_type": "execute_result"
    }
   ],
   "source": [
    "np.mean(a2)"
   ]
  },
  {
   "cell_type": "code",
   "execution_count": 18,
   "id": "8bd3fcf1-c2a4-4446-9c1a-d5ab346dca8b",
   "metadata": {},
   "outputs": [
    {
     "data": {
      "text/plain": [
       "np.float64(6.5)"
      ]
     },
     "execution_count": 18,
     "metadata": {},
     "output_type": "execute_result"
    }
   ],
   "source": [
    "np.max(a2)"
   ]
  },
  {
   "cell_type": "code",
   "execution_count": 19,
   "id": "93566fee-becc-4b26-8c2e-8a904392fd18",
   "metadata": {},
   "outputs": [
    {
     "data": {
      "text/plain": [
       "np.float64(1.0)"
      ]
     },
     "execution_count": 19,
     "metadata": {},
     "output_type": "execute_result"
    }
   ],
   "source": [
    "np.min(a2)"
   ]
  },
  {
   "cell_type": "code",
   "execution_count": 20,
   "id": "ddde4784-ed36-4ac4-9cb7-4abe79a9055c",
   "metadata": {},
   "outputs": [
    {
     "data": {
      "text/plain": [
       "np.float64(1.8226964152656422)"
      ]
     },
     "execution_count": 20,
     "metadata": {},
     "output_type": "execute_result"
    }
   ],
   "source": [
    "# Standard deviation = a measure of how spread out a group of numbers is from the main \n",
    "\n",
    "np.std(a2)"
   ]
  },
  {
   "cell_type": "code",
   "execution_count": 21,
   "id": "dcc9cc85-740a-4d6f-a2e9-c1e745c736a7",
   "metadata": {},
   "outputs": [
    {
     "data": {
      "text/plain": [
       "np.float64(3.3222222222222224)"
      ]
     },
     "execution_count": 21,
     "metadata": {},
     "output_type": "execute_result"
    }
   ],
   "source": [
    "# Variance = measure of the average degree to which each number is different from the main\n",
    "# Higher varience = wider range of numbers\n",
    "# Lower varience = lower range of numbers\n",
    "\n",
    "np.var(a2)"
   ]
  },
  {
   "cell_type": "code",
   "execution_count": 22,
   "id": "c41715d8-5a55-426e-bb21-76ff24923a41",
   "metadata": {},
   "outputs": [
    {
     "data": {
      "text/plain": [
       "np.float64(1.8226964152656422)"
      ]
     },
     "execution_count": 22,
     "metadata": {},
     "output_type": "execute_result"
    }
   ],
   "source": [
    "# Standard deviation = squareroot of variation \n",
    "\n",
    "np.sqrt(np.var(a2))"
   ]
  }
 ],
 "metadata": {
  "kernelspec": {
   "display_name": "Python 3 (ipykernel)",
   "language": "python",
   "name": "python3"
  },
  "language_info": {
   "codemirror_mode": {
    "name": "ipython",
    "version": 3
   },
   "file_extension": ".py",
   "mimetype": "text/x-python",
   "name": "python",
   "nbconvert_exporter": "python",
   "pygments_lexer": "ipython3",
   "version": "3.13.2"
  }
 },
 "nbformat": 4,
 "nbformat_minor": 5
}
